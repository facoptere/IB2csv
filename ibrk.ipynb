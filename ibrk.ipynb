{
 "cells": [
  {
   "cell_type": "code",
   "execution_count": null,
   "id": "dca645eb-cd06-4372-b7c5-b9e17faf46cd",
   "metadata": {},
   "outputs": [],
   "source": [
    "!pip install ibapi polars lxml sqlitedict\n",
    "!pip list"
   ]
  },
  {
   "cell_type": "code",
   "execution_count": null,
   "id": "a434381d",
   "metadata": {},
   "outputs": [],
   "source": [
    "import logging\n",
    "import polars as pl\n",
    "import locale\n",
    "import os\n",
    "\n",
    "from utils import SetupLogger, ibConnect, getAccounts, getOpenOrders, getCurrencies, getAssetDetails, ibDisconnect, computeThings\n",
    " \n",
    "\n",
    "logger = SetupLogger()\n",
    "logging.getLogger().setLevel(logging.WARNING)\n",
    "\n",
    "ipaddr = os.getenv(\"IPADDR\", \"127.0.0.1\")\n",
    "BaseCur = ['USD', 'CHF', 'EUR'] \n",
    "\n",
    "app = ibConnect(ipaddr)\n",
    "\n",
    "if app is not None:\n",
    "    getAccounts(app)\n",
    "    getOpenOrders(app)\n",
    "    getCurrencies(app, BaseCur)\n",
    "    getAssetDetails(app)\n",
    "\n",
    "    ibDisconnect(app)\n",
    "\n",
    "    computeThings(app, BaseCur)\n",
    "    \n",
    "    for account in app.accounts:\n",
    "        df = pl.DataFrame(app.portfolios[account])\n",
    "        with pl.Config(\n",
    "            tbl_cell_numeric_alignment=\"RIGHT\",\n",
    "            thousands_separator=\"\",\n",
    "            decimal_separator=locale.localeconv()[\"decimal_point\"],\n",
    "            float_precision=4,\n",
    "            set_tbl_column_data_type_inline=False,\n",
    "        ):\n",
    "            display(df) \n",
    "            df.write_csv(file=f\"{account}.csv\", separator='\\t', float_precision=4, null_value=\"\")\n"
   ]
  }
 ],
 "metadata": {
  "kernelspec": {
   "display_name": "krn-ibcsv",
   "language": "python",
   "name": "krn-ibcsv"
  },
  "language_info": {
   "codemirror_mode": {
    "name": "ipython",
    "version": 3
   },
   "file_extension": ".py",
   "mimetype": "text/x-python",
   "name": "python",
   "nbconvert_exporter": "python",
   "pygments_lexer": "ipython3",
   "version": "3.13.7"
  }
 },
 "nbformat": 4,
 "nbformat_minor": 5
}
